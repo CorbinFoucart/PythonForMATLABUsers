{
 "cells": [
  {
   "cell_type": "markdown",
   "metadata": {},
   "source": [
    "## importing external code into our notebook"
   ]
  },
  {
   "cell_type": "markdown",
   "metadata": {},
   "source": [
    "Import statements are the tool that let us bring code written elsewhere into the notebook. We will learn much more about them as we go."
   ]
  },
  {
   "cell_type": "code",
   "execution_count": 51,
   "metadata": {},
   "outputs": [],
   "source": [
    "import matplotlib.pyplot as plt\n",
    "from iexfinance import get_historical_data\n",
    "from datetime import datetime"
   ]
  },
  {
   "cell_type": "markdown",
   "metadata": {},
   "source": [
    "# `Numpy`, `pandas`, and the stock market"
   ]
  },
  {
   "cell_type": "code",
   "execution_count": 46,
   "metadata": {},
   "outputs": [
    {
     "name": "stderr",
     "output_type": "stream",
     "text": [
      "/Users/corbin/anaconda/envs/NMSMExp_env/lib/python3.6/site-packages/iexfinance/__init__.py:57: UserWarning: get_historical_data is moved to iexfinance.stocks. This function will in be deprecated in v0.4.0\n",
      "  warnings.warn(WNG_MSG % (\"get_historical_data\", \"stocks\"))\n"
     ]
    }
   ],
   "source": [
    "start = datetime(2018, 1, 1)\n",
    "end = datetime(2019, 1, 1)\n",
    "\n",
    "# get TESLA stock\n",
    "df = get_historical_data(\"TSLA\", start, end)\n",
    "df = get_historical_data(\"TSLA\", start, end, output_format='pandas')"
   ]
  },
  {
   "cell_type": "markdown",
   "metadata": {},
   "source": [
    "`df` stands for `DataFrame`, the basic object of the `pandas` library. Each `DataFrame` object stores 2D tabular data. What does our particular `df` `DataFrame` contain?\n",
    "\n",
    "To print an object's representation in Jupyter, simply leave it as the last line in a cell. We could look at it by simply typing `df`, but that would flood the screen with output (try it, if you don't believe me).\n",
    "\n",
    "Instead, we can print a small selection from the beginning (head) or end (tail) of the table to get our bearings."
   ]
  },
  {
   "cell_type": "code",
   "execution_count": 47,
   "metadata": {},
   "outputs": [
    {
     "data": {
      "text/html": [
       "<div>\n",
       "<style scoped>\n",
       "    .dataframe tbody tr th:only-of-type {\n",
       "        vertical-align: middle;\n",
       "    }\n",
       "\n",
       "    .dataframe tbody tr th {\n",
       "        vertical-align: top;\n",
       "    }\n",
       "\n",
       "    .dataframe thead th {\n",
       "        text-align: right;\n",
       "    }\n",
       "</style>\n",
       "<table border=\"1\" class=\"dataframe\">\n",
       "  <thead>\n",
       "    <tr style=\"text-align: right;\">\n",
       "      <th></th>\n",
       "      <th>open</th>\n",
       "      <th>high</th>\n",
       "      <th>low</th>\n",
       "      <th>close</th>\n",
       "      <th>volume</th>\n",
       "    </tr>\n",
       "    <tr>\n",
       "      <th>date</th>\n",
       "      <th></th>\n",
       "      <th></th>\n",
       "      <th></th>\n",
       "      <th></th>\n",
       "      <th></th>\n",
       "    </tr>\n",
       "  </thead>\n",
       "  <tbody>\n",
       "    <tr>\n",
       "      <th>2018-01-02</th>\n",
       "      <td>312.00</td>\n",
       "      <td>322.1099</td>\n",
       "      <td>311.00</td>\n",
       "      <td>320.53</td>\n",
       "      <td>4352241</td>\n",
       "    </tr>\n",
       "    <tr>\n",
       "      <th>2018-01-03</th>\n",
       "      <td>321.00</td>\n",
       "      <td>325.2500</td>\n",
       "      <td>315.55</td>\n",
       "      <td>317.25</td>\n",
       "      <td>4521527</td>\n",
       "    </tr>\n",
       "    <tr>\n",
       "      <th>2018-01-04</th>\n",
       "      <td>312.87</td>\n",
       "      <td>318.5500</td>\n",
       "      <td>305.68</td>\n",
       "      <td>314.62</td>\n",
       "      <td>9946304</td>\n",
       "    </tr>\n",
       "    <tr>\n",
       "      <th>2018-01-05</th>\n",
       "      <td>316.62</td>\n",
       "      <td>317.2400</td>\n",
       "      <td>312.00</td>\n",
       "      <td>316.58</td>\n",
       "      <td>4591180</td>\n",
       "    </tr>\n",
       "  </tbody>\n",
       "</table>\n",
       "</div>"
      ],
      "text/plain": [
       "              open      high     low   close   volume\n",
       "date                                                 \n",
       "2018-01-02  312.00  322.1099  311.00  320.53  4352241\n",
       "2018-01-03  321.00  325.2500  315.55  317.25  4521527\n",
       "2018-01-04  312.87  318.5500  305.68  314.62  9946304\n",
       "2018-01-05  316.62  317.2400  312.00  316.58  4591180"
      ]
     },
     "execution_count": 47,
     "metadata": {},
     "output_type": "execute_result"
    }
   ],
   "source": [
    "df.head(n=4)"
   ]
  },
  {
   "cell_type": "markdown",
   "metadata": {},
   "source": [
    "Ok, so the TESLA stock data contains 5 fields per day. When we have `pandas` DataFrame data, we can access the field we want by its name. Let's get each day's closing price and plot it."
   ]
  },
  {
   "cell_type": "code",
   "execution_count": 48,
   "metadata": {},
   "outputs": [
    {
     "data": {
      "image/png": "[encoded data removed]",
      "text/plain": [
       "<Figure size 432x288 with 1 Axes>"
      ]
     },
     "metadata": {
      "needs_background": "light"
     },
     "output_type": "display_data"
    }
   ],
   "source": [
    "day_close_values = df['close']\n",
    "plt.plot(day_close_values)\n",
    "plt.show()"
   ]
  },
  {
   "cell_type": "markdown",
   "metadata": {},
   "source": [
    "Pretty neat. But this plot should raise some questions.\n",
    "- What happened when we accessed `df['close']`\n",
    "- If `Matplotlib` and `pandas` are different libraries, how did `pyplot`'s `plot` command know how to plot the data?\n",
    "- What if I want finer grain control over everything, the stock data, the plotting, etc?\n",
    "Over the course of these tutorials, we will take a shot at answering these questions. \n",
    "\n",
    "For now, understand that the entire scientific python stack, `NumPy`, `SciPy`, `Matplotlib`, `pandas`, etc can each be used as  standalone libraries or can be used in conjunction with another. It's part of what makes Python so flexible and powerful as a language for scientific computing.\n",
    "\n",
    "We will also see that this flexibility is not limited to the typical scientific computing libraries; we can make use of the whole universe of Python libraries out there and even write our own."
   ]
  },
  {
   "cell_type": "markdown",
   "metadata": {},
   "source": [
    "## Python types"
   ]
  },
  {
   "cell_type": "markdown",
   "metadata": {},
   "source": [
    "**Everything in Python is an object.**\n",
    "\n",
    "That seems like a dumb statement, but it's actually very important to understanding and using Python well. The first real-world application is that **every object has a type** and we can check it using the Python function `type`."
   ]
  },
  {
   "cell_type": "code",
   "execution_count": 54,
   "metadata": {},
   "outputs": [
    {
     "data": {
      "text/plain": [
       "int"
      ]
     },
     "execution_count": 54,
     "metadata": {},
     "output_type": "execute_result"
    }
   ],
   "source": [
    "a = 5\n",
    "type(a)"
   ]
  },
  {
   "cell_type": "markdown",
   "metadata": {},
   "source": [
    "The `type` function, like `print`, is a base part of the Python language and never needs to be imported. We can always use it to see what the type of what we're dealing with."
   ]
  },
  {
   "cell_type": "code",
   "execution_count": 32,
   "metadata": {},
   "outputs": [
    {
     "data": {
      "text/plain": [
       "pandas.core.series.Series"
      ]
     },
     "execution_count": 32,
     "metadata": {},
     "output_type": "execute_result"
    }
   ],
   "source": [
    "type(day_close_values)"
   ]
  },
  {
   "cell_type": "markdown",
   "metadata": {},
   "source": [
    "Some objects, like integers `int` are very simple, others, like `pandas.core.series.Series`, are complex. If we so choose, we can build complex objects out of simple ones."
   ]
  },
  {
   "cell_type": "code",
   "execution_count": null,
   "metadata": {},
   "outputs": [],
   "source": []
  }
 ],
 "metadata": {
  "hide_input": false,
  "kernelspec": {
   "display_name": "NMSMExp_env",
   "language": "python",
   "name": "nmsmexp_env"
  },
  "language_info": {
   "codemirror_mode": {
    "name": "ipython",
    "version": 3
   },
   "file_extension": ".py",
   "mimetype": "text/x-python",
   "name": "python",
   "nbconvert_exporter": "python",
   "pygments_lexer": "ipython3",
   "version": "3.6.6"
  },
  "toc": {
   "base_numbering": 1,
   "nav_menu": {},
   "number_sections": true,
   "sideBar": true,
   "skip_h1_title": false,
   "title_cell": "Table of Contents",
   "title_sidebar": "Contents",
   "toc_cell": false,
   "toc_position": {},
   "toc_section_display": true,
   "toc_window_display": false
  }
 },
 "nbformat": 4,
 "nbformat_minor": 2
}
