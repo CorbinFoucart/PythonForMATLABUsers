{
 "cells": [
  {
   "cell_type": "markdown",
   "metadata": {},
   "source": [
    "## Setup\n",
    "First we check that we have the appropriate libraries installed in your virtual environment. If you're running this notebook outside of your virtual environment, close it and:\n",
    "\n",
    "activate your virtual environment at the command line with\n",
    "\n",
    "`source [virtualenv dir]/bin/activate`\n",
    "\n",
    "after activation, you should see the virtual environment name to the right hand side of your terminal, e.g.,\n",
    "\n",
    "`(venv_name) PythonForMATLABUsers >> ` \n",
    "\n",
    "Now you can run `jupyter notebook` from terminal and try to execute the following code. If the import statements fail, you don't have the libraries installed in your virtual environment. To fix this, close the notebook, execute \n",
    "\n",
    "`pip install numpy scipy sympy matplotlib` \n",
    "\n",
    "from the terminal and relaunch `jupyter notebook`"
   ]
  },
  {
   "cell_type": "code",
   "execution_count": 5,
   "metadata": {},
   "outputs": [],
   "source": [
    "import numpy"
   ]
  },
  {
   "cell_type": "code",
   "execution_count": 7,
   "metadata": {},
   "outputs": [
    {
     "name": "stdout",
     "output_type": "stream",
     "text": [
      "[ 0.  0.  0.  0.  0.  0.  0.  0.  0.  0.]\n"
     ]
    }
   ],
   "source": [
    "# let's create a vector of zeros by calling the numpy zeros function\n",
    "z = numpy.zeros(10)\n",
    "print(z)"
   ]
  },
  {
   "cell_type": "markdown",
   "metadata": {},
   "source": [
    "Note that to use any numpy function, we need to call it with a \"numpy\" prefix, like `numpy.zeros(10)`, `numpy.ones(10)` etc. This can become unwiedly to type if we need to include it every time we call a numpy function. There must be a better way.\n",
    "\n",
    "We could have imported `numpy` a few ways:\n",
    "\n",
    "```python\n",
    "# import numpy without a \"name\"\n",
    "# call everything using numpy.function(args)\n",
    "import numpy\n",
    "z = numpy.zeros(10)\n",
    "\n",
    "# import all functions from numpy, no name needed\n",
    "from numpy import *\n",
    "z = zeros(10)\n",
    "```\n",
    "\n",
    "The `from numpy import *` seems nice, because we don't need to refer to numpy at all, and *for small scripts*, this can be very convenient. But for large projects, this is not a good idea, because functions in the numpy namespace could conflict with functions from other libraries imported with `*`, or custom functions you wrote yourself. For example, suppose you have a small script that calculates output power of some device. You might want to define a power function --we'll get to function definitions later\n",
    "```python\n",
    "def power():\n",
    "    # some calculation\n",
    "    return power\n",
    "```\n",
    "but if you imported numpy with `from numpy import *`, the `numpy.power()` function, which allows you to raise vectors to different powers and which is now simply called as `power()`, will be overwritten and we can no longer use it! We have inadvertently polluted our namespace. There must be a better way.\n",
    "\n",
    "\n",
    "Python lets us import libraries with a 'nickname' so we don't have to type `numpy.function()` every time, but we also keep the namespace separate. Now we have the best of both worlds.\n",
    "\n",
    "```python\n",
    "# BEST PRACTICE\n",
    "# import numpy, but give it a name for ease of typing\n",
    "import numpy as np\n",
    "z = np.zeros(10)\n",
    "```"
   ]
  },
  {
   "cell_type": "code",
   "execution_count": null,
   "metadata": {},
   "outputs": [],
   "source": []
  }
 ],
 "metadata": {
  "kernelspec": {
   "display_name": "Python 3",
   "language": "python",
   "name": "python3"
  },
  "language_info": {
   "codemirror_mode": {
    "name": "ipython",
    "version": 3
   },
   "file_extension": ".py",
   "mimetype": "text/x-python",
   "name": "python",
   "nbconvert_exporter": "python",
   "pygments_lexer": "ipython3",
   "version": "3.5.1"
  }
 },
 "nbformat": 4,
 "nbformat_minor": 2
}
