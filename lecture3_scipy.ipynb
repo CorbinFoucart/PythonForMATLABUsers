{
 "cells": [
  {
   "cell_type": "markdown",
   "metadata": {},
   "source": [
    "## SciPy"
   ]
  },
  {
   "cell_type": "markdown",
   "metadata": {},
   "source": [
    "SciPy is a library built on top of NumPy which implements algorithms, solvers, and convenience functions for scientific work. It is an enormous library, and this lecture will constitute a shallow tour of of a limited subset of its features. \n",
    "\n",
    "Unlike NumPy, SciPy has is organized in terms of subpackages that have to be imported independently. For example, `scipy.linalg`, `scipy.sparse`, `scipy.integrate`, and `scipy.optimize` represent libraries for dense linear algebra, sparse linear algebra, integration and ODE solvers, and optimization/root finding libraries, respectively."
   ]
  },
  {
   "cell_type": "code",
   "execution_count": 41,
   "metadata": {},
   "outputs": [],
   "source": [
    "import numpy as np\n",
    "import matplotlib.pyplot as plt\n",
    "%matplotlib inline"
   ]
  },
  {
   "cell_type": "markdown",
   "metadata": {},
   "source": [
    "### dense linear algebra"
   ]
  },
  {
   "cell_type": "code",
   "execution_count": 16,
   "metadata": {},
   "outputs": [
    {
     "name": "stdout",
     "output_type": "stream",
     "text": [
      "[[ 0.51262516  0.81927697  0.02990207]\n",
      " [ 0.553457    0.43900113  0.37080495]\n",
      " [ 0.97394125  0.35295096  0.81265027]]\n"
     ]
    }
   ],
   "source": [
    "from scipy import linalg\n",
    "\n",
    "n = 3\n",
    "A = np.random.random((n,n))\n",
    "print(A)"
   ]
  },
  {
   "cell_type": "code",
   "execution_count": 17,
   "metadata": {},
   "outputs": [
    {
     "name": "stdout",
     "output_type": "stream",
     "text": [
      "[[  1.00000000e+00  -1.11022302e-15   3.60822483e-16]\n",
      " [ -8.88178420e-16   1.00000000e+00   0.00000000e+00]\n",
      " [ -8.88178420e-16   1.77635684e-15   1.00000000e+00]]\n"
     ]
    }
   ],
   "source": [
    "# invert a matrix\n",
    "Ainv = linalg.inv(A)\n",
    "print(np.dot(A, Ainv))"
   ]
  },
  {
   "cell_type": "markdown",
   "metadata": {},
   "source": [
    "But, in practice, there is almost never a reason to explicitly invert a matrix. Instead, we can solve the linear system we care about."
   ]
  },
  {
   "cell_type": "code",
   "execution_count": 22,
   "metadata": {},
   "outputs": [
    {
     "name": "stdout",
     "output_type": "stream",
     "text": [
      "[  0.00000000e+00   5.55111512e-16   1.66533454e-16]\n"
     ]
    }
   ],
   "source": [
    "# solve a linear system\n",
    "b = np.random.rand(n)\n",
    "x = linalg.solve(A, b)\n",
    "r = b - np.dot(A, x)\n",
    "print(r)"
   ]
  },
  {
   "cell_type": "code",
   "execution_count": 26,
   "metadata": {},
   "outputs": [
    {
     "name": "stdout",
     "output_type": "stream",
     "text": [
      "[ 1.52784560+0.j          0.11821548+0.09871214j  0.11821548-0.09871214j]\n",
      "[ 1.  1.  1.]\n"
     ]
    }
   ],
   "source": [
    "# eigenvalues, eigenvectors\n",
    "lam, v = linalg.eig(A)\n",
    "print(lam)\n",
    "\n",
    "# eigenvectors should be unitary\n",
    "print(np.sum(abs(v**2), axis=0))"
   ]
  },
  {
   "cell_type": "code",
   "execution_count": 33,
   "metadata": {},
   "outputs": [
    {
     "name": "stdout",
     "output_type": "stream",
     "text": [
      "U = \n",
      "[[-0.47144819 -0.82962046 -0.29910949]\n",
      " [-0.4699245  -0.05068021  0.88125052]\n",
      " [-0.7462624   0.55602285 -0.36596588]]\n",
      "\n",
      "S = \n",
      "[ 1.69520799  0.65587371  0.0325936 ]\n",
      "\n",
      "VH = [[-0.72473404 -0.50491625 -0.46884981]\n",
      " [ 0.13447703 -0.77101553  0.62245561]\n",
      " [-0.67577844  0.38806524  0.62668084]]\n",
      "\n"
     ]
    }
   ],
   "source": [
    "# SVD\n",
    "U, S, VH = linalg.svd(A)\n",
    "print('U = \\n{}\\n\\nS = \\n{}\\n\\nVH = {}\\n'.format(U,S,VH))\n"
   ]
  },
  {
   "cell_type": "markdown",
   "metadata": {},
   "source": [
    "### interpolation"
   ]
  },
  {
   "cell_type": "code",
   "execution_count": 59,
   "metadata": {},
   "outputs": [
    {
     "data": {
      "image/png": "[encoded data removed]",
      "text/plain": [
       "<matplotlib.figure.Figure at 0x10be6a490>"
      ]
     },
     "metadata": {},
     "output_type": "display_data"
    }
   ],
   "source": [
    "from scipy.interpolate import interp1d\n",
    "\n",
    "def f(x):\n",
    "    return np.exp(-x) * np.cos(2*np.pi*x)\n",
    "\n",
    "# data points\n",
    "L = 2.5\n",
    "x_data = np.linspace(0, L, 8)\n",
    "data = f(x_data)\n",
    "\n",
    "lin_interp = interp1d(x_data, data)\n",
    "spline_interp = interp1d(x_data, data, kind='cubic')\n",
    "\n",
    "xx = np.linspace(0, L, 100)\n",
    "\n",
    "plt.plot(xx, lin_interp(xx))\n",
    "plt.plot(xx, spline_interp(xx))\n",
    "plt.plot(x_data, data, 'ko')\n",
    "plt.plot(xx, f(xx), 'k--')\n",
    "plt.legend(['linear', 'cubic', 'data', 'exact'], loc='best')\n",
    "plt.title('interpolations')\n",
    "plt.grid()\n",
    "plt.show()"
   ]
  },
  {
   "cell_type": "code",
   "execution_count": null,
   "metadata": {},
   "outputs": [],
   "source": []
  }
 ],
 "metadata": {
  "kernelspec": {
   "display_name": "2098env",
   "language": "python",
   "name": "2098env"
  },
  "language_info": {
   "codemirror_mode": {
    "name": "ipython",
    "version": 2
   },
   "file_extension": ".py",
   "mimetype": "text/x-python",
   "name": "python",
   "nbconvert_exporter": "python",
   "pygments_lexer": "ipython2",
   "version": "2.7.13"
  }
 },
 "nbformat": 4,
 "nbformat_minor": 2
}
