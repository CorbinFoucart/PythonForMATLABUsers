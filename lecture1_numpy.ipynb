{
 "cells": [
  {
   "cell_type": "markdown",
   "metadata": {},
   "source": [
    "## Setup\n",
    "First we check that we have the appropriate libraries installed in your virtual environment. If you're running this notebook outside of your virtual environment, close it and:\n",
    "\n",
    "activate your virtual environment at the command line with\n",
    "\n",
    "`source [virtualenv dir]/bin/activate`\n",
    "\n",
    "after activation, you should see the virtual environment name to the left hand side of your terminal, e.g.,\n",
    "\n",
    "`(venv_name) PythonForMATLABUsers >> ` \n",
    "\n",
    "Now you can run `jupyter notebook` from terminal and try to execute the following code. If the import statements fail, you don't have the libraries installed in your virtual environment. To fix this, close the notebook, execute \n",
    "\n",
    "`pip install numpy scipy sympy matplotlib` \n",
    "\n",
    "from the terminal and relaunch `jupyter notebook`"
   ]
  },
  {
   "cell_type": "code",
   "execution_count": 1,
   "metadata": {},
   "outputs": [],
   "source": [
    "import numpy"
   ]
  },
  {
   "cell_type": "code",
   "execution_count": 2,
   "metadata": {},
   "outputs": [
    {
     "name": "stdout",
     "output_type": "stream",
     "text": [
      "[ 0.  0.  0.  0.  0.  0.  0.  0.  0.  0.]\n"
     ]
    }
   ],
   "source": [
    "# let's create a vector of zeros by calling the numpy zeros function\n",
    "z = numpy.zeros(10)\n",
    "print(z)"
   ]
  },
  {
   "cell_type": "markdown",
   "metadata": {},
   "source": [
    "Note that to use any numpy function, we need to call it with a \"numpy\" prefix, like `numpy.zeros(10)`, `numpy.ones(10)` etc. This can become unwiedly to type if we need to include it every time we call a numpy function. There must be a better way.\n",
    "\n",
    "We could have imported `numpy` a few ways:\n",
    "\n",
    "```python\n",
    "# import numpy without a \"name\"\n",
    "# call everything using numpy.function(args)\n",
    "import numpy\n",
    "z = numpy.zeros(10)\n",
    "\n",
    "# import all functions from numpy, no name needed\n",
    "from numpy import *\n",
    "z = zeros(10)\n",
    "```\n",
    "\n",
    "The `from numpy import *` seems nice, because we don't need to refer to numpy at all, and *for small scripts*, this can be very convenient. But for large projects, this is not a good idea, because functions in the numpy namespace could conflict with functions from other libraries imported with `*`, or custom functions you wrote yourself. For example, suppose you have a small script that calculates output power of some device. You might want to define a power function --we'll get to function definitions later\n",
    "```python\n",
    "def power():\n",
    "    # do power calculation\n",
    "    return power\n",
    "```\n",
    "but if you imported numpy with `from numpy import *`, the `numpy.power()` function, which allows you to raise vectors to different powers and which is now simply called as `power()`, will be overwritten and we can no longer use it! We have inadvertently polluted our namespace. There must be a better way.\n",
    "\n",
    "\n",
    "Python lets us import libraries with a 'nickname' so we don't have to type `numpy.function()` every time, but we also keep the namespace separate. Now we have the best of both worlds.\n",
    "\n",
    "```python\n",
    "# BEST PRACTICE\n",
    "# import numpy, but give it a name for ease of typing\n",
    "import numpy as np\n",
    "z = np.zeros(10)\n",
    "```"
   ]
  },
  {
   "cell_type": "markdown",
   "metadata": {},
   "source": [
    "## Tour of the `numpy` array"
   ]
  },
  {
   "cell_type": "markdown",
   "metadata": {},
   "source": [
    "When we call `np.zeros`, we are initializing our first numpy array object. The numpy array is the central feature of the library.\n",
    "\n",
    "These objects are multidimensional arrays which all hold the same type (usually a `float` or `int`). The entries of a numpy array are stored contiguously in memory, which makes accessing and operating on `numpy.ndarray` objects fast and generally much more efficient than more general Python data structures like lists or dictionaries.\n",
    "\n",
    "Let's explore the `np.zeros` function more. We can initialize the array with different numeric types if we'd like. "
   ]
  },
  {
   "cell_type": "code",
   "execution_count": 3,
   "metadata": {},
   "outputs": [
    {
     "name": "stdout",
     "output_type": "stream",
     "text": [
      "z_float: [ 0.  0.  0.  0.  0.]\n",
      "z_int: [0 0 0 0 0]\n",
      "z_bool: [False False False False False]\n"
     ]
    }
   ],
   "source": [
    "import numpy as np\n",
    "\n",
    "z_float = np.zeros(5) # filled with float by default\n",
    "print('z_float: {}'.format(z_float))\n",
    "\n",
    "z_int = np.zeros(5, dtype=int)\n",
    "print('z_int: {}'.format(z_int))\n",
    "\n",
    "z_bool = np.zeros(5, dtype=bool)\n",
    "print('z_bool: {}'.format(z_bool))"
   ]
  },
  {
   "cell_type": "markdown",
   "metadata": {},
   "source": [
    "### array shapes\n",
    "Numpy array objects all support the 'shape' method, which allows us to see the shape of our arrays. It returns a tuple specifying the shape along each dimension."
   ]
  },
  {
   "cell_type": "code",
   "execution_count": 4,
   "metadata": {},
   "outputs": [
    {
     "name": "stdout",
     "output_type": "stream",
     "text": [
      "z_vector.shape: (5,)\n",
      "z_2D_vector.shape: (5, 1)\n",
      "z_2D.shape: (5, 5)\n",
      "z_multidim.shape: (6, 7, 2)\n"
     ]
    }
   ],
   "source": [
    "# declare vector, 2D array, and multidim array of zeros\n",
    "z_vector = np.zeros(5)\n",
    "z_2D_vector = np.zeros((5,1))\n",
    "z_2D = np.zeros((5,5))\n",
    "z_multidim = np.zeros((6,7,2))\n",
    "\n",
    "print('z_vector.shape: {}'.format(z_vector.shape))\n",
    "print('z_2D_vector.shape: {}'.format(z_2D_vector.shape))\n",
    "print('z_2D.shape: {}'.format(z_2D.shape))\n",
    "print('z_multidim.shape: {}'.format(z_multidim.shape))"
   ]
  },
  {
   "cell_type": "markdown",
   "metadata": {},
   "source": [
    "An important note is that numpy distinguishes a vector from a 2D array with a single row or column. Note the difference in shape between `z_vector` and `z_2D_vector`. They have different dimensions, and cannot be treated as the same object:"
   ]
  },
  {
   "cell_type": "code",
   "execution_count": 5,
   "metadata": {},
   "outputs": [
    {
     "name": "stdout",
     "output_type": "stream",
     "text": [
      "z_vector: [ 0.  0.  0.  0.  0.]\n",
      "z_2D_vector:\n",
      " [[ 0.]\n",
      " [ 0.]\n",
      " [ 0.]\n",
      " [ 0.]\n",
      " [ 0.]]\n",
      "\n",
      "z_2D_vector + z_vector:\n",
      " [[ 0.  0.  0.  0.  0.]\n",
      " [ 0.  0.  0.  0.  0.]\n",
      " [ 0.  0.  0.  0.  0.]\n",
      " [ 0.  0.  0.  0.  0.]\n",
      " [ 0.  0.  0.  0.  0.]]\n",
      "\n",
      "unexpected behavior!\n"
     ]
    }
   ],
   "source": [
    "print('z_vector: {}'.format(z_vector))\n",
    "print('z_2D_vector:\\n {}\\n'.format(z_2D_vector))\n",
    "print('z_2D_vector + z_vector:\\n {}'.format(z_vector + z_2D_vector))\n",
    "print('\\nunexpected behavior!')"
   ]
  },
  {
   "cell_type": "markdown",
   "metadata": {},
   "source": [
    "This can lead to bugs, so be sure to be careful whether you are using a 2D representation of a vector, or an actual numpy vector! Let's illustrate this with the `np.dot` function. \n",
    "\n",
    "For 2-D arrays `np.dot` is equivalent to matrix multiplication, and for 1-D arrays to inner product of vectors (without complex conjugation)."
   ]
  },
  {
   "cell_type": "code",
   "execution_count": 6,
   "metadata": {},
   "outputs": [
    {
     "ename": "ValueError",
     "evalue": "shapes (5,1) and (5,) not aligned: 1 (dim 1) != 5 (dim 0)",
     "output_type": "error",
     "traceback": [
      "\u001b[0;31m---------------------------------------------------------------------------\u001b[0m",
      "\u001b[0;31mValueError\u001b[0m                                Traceback (most recent call last)",
      "\u001b[0;32m<ipython-input-6-d6dae750c327>\u001b[0m in \u001b[0;36m<module>\u001b[0;34m()\u001b[0m\n\u001b[1;32m      1\u001b[0m \u001b[0;31m# this should fail, even though we are trying to 'dot' two vectors\u001b[0m\u001b[0;34m\u001b[0m\u001b[0;34m\u001b[0m\u001b[0m\n\u001b[1;32m      2\u001b[0m \u001b[0;31m# because one is a (5,) shape and the other is a (5,1) shape\u001b[0m\u001b[0;34m\u001b[0m\u001b[0;34m\u001b[0m\u001b[0m\n\u001b[0;32m----> 3\u001b[0;31m \u001b[0mnp\u001b[0m\u001b[0;34m.\u001b[0m\u001b[0mdot\u001b[0m\u001b[0;34m(\u001b[0m\u001b[0mz_2D_vector\u001b[0m\u001b[0;34m,\u001b[0m \u001b[0mz_vector\u001b[0m\u001b[0;34m)\u001b[0m\u001b[0;34m\u001b[0m\u001b[0m\n\u001b[0m",
      "\u001b[0;31mValueError\u001b[0m: shapes (5,1) and (5,) not aligned: 1 (dim 1) != 5 (dim 0)"
     ]
    }
   ],
   "source": [
    "# this should fail, even though we are trying to 'dot' two vectors\n",
    "# because one is a (5,) shape and the other is a (5,1) shape\n",
    "np.dot(z_2D_vector, z_vector)"
   ]
  },
  {
   "cell_type": "code",
   "execution_count": 7,
   "metadata": {},
   "outputs": [
    {
     "name": "stdout",
     "output_type": "stream",
     "text": [
      "0.0\n",
      "[[ 0.]]\n"
     ]
    }
   ],
   "source": [
    "# of course, it's fine if we dot two things of same shape\n",
    "print(np.dot(z_vector, z_vector))\n",
    "\n",
    "# or if we transpose z_2D_vector to make z^T * z\n",
    "# in numpy, we can transpose an array with array.T\n",
    "print(np.dot(z_2D_vector.T, z_2D_vector))"
   ]
  },
  {
   "cell_type": "markdown",
   "metadata": {},
   "source": [
    "To remove singleton dimensions, we can call `np.squeeze` just like `squeeze` in MATLAB"
   ]
  },
  {
   "cell_type": "code",
   "execution_count": 8,
   "metadata": {},
   "outputs": [
    {
     "name": "stdout",
     "output_type": "stream",
     "text": [
      "b.shape: (10, 1)\n",
      "b.squeeze().shape: (10,)\n"
     ]
    }
   ],
   "source": [
    "b = np.zeros((10,1))\n",
    "print('b.shape: {}'.format(b.shape))\n",
    "print( 'b.squeeze().shape: {}'.format(b.squeeze().shape))\n"
   ]
  },
  {
   "cell_type": "markdown",
   "metadata": {},
   "source": [
    "### non-zero initializations\n",
    "\n",
    "Although we've been using the `np.zeros` function, `numpy` provides many ways to initialize arrays similar to MATLAB."
   ]
  },
  {
   "cell_type": "code",
   "execution_count": 9,
   "metadata": {},
   "outputs": [
    {
     "name": "stdout",
     "output_type": "stream",
     "text": [
      "[[ 1.  1.  1.  1.]\n",
      " [ 1.  1.  1.  1.]\n",
      " [ 1.  1.  1.  1.]]\n"
     ]
    }
   ],
   "source": [
    "# np.ones: behaves same as np.zeros\n",
    "print( np.ones((3,4)) )"
   ]
  },
  {
   "cell_type": "code",
   "execution_count": 10,
   "metadata": {},
   "outputs": [
    {
     "name": "stdout",
     "output_type": "stream",
     "text": [
      "[ 3.    3.25  3.5   3.75  4.  ]\n"
     ]
    }
   ],
   "source": [
    "# np.linspace\n",
    "print( np.linspace(3, 4, 5) )"
   ]
  },
  {
   "cell_type": "code",
   "execution_count": 11,
   "metadata": {},
   "outputs": [
    {
     "name": "stdout",
     "output_type": "stream",
     "text": [
      "[[ 0.53620238  0.32457795  0.47801578]\n",
      " [ 0.27732875  0.44428769  0.55031265]]\n",
      "\n",
      "[ 0.92816178  0.91301203  0.76324317]\n"
     ]
    }
   ],
   "source": [
    "# random array\n",
    "print( np.random.random((2,3)) )\n",
    "print('')\n",
    "\n",
    "# random vector\n",
    "print( np.random.rand(3) )"
   ]
  },
  {
   "cell_type": "code",
   "execution_count": 12,
   "metadata": {},
   "outputs": [
    {
     "name": "stdout",
     "output_type": "stream",
     "text": [
      "[[ 0.  0.  0.  0.]\n",
      " [ 0.  0.  0.  0.]\n",
      " [ 0.  0.  0.  0.]]\n"
     ]
    }
   ],
   "source": [
    "# initialize ones_like / zeros_like another array\n",
    "arr = np.random.random((3,4))\n",
    "b = np.zeros_like(arr)\n",
    "print(b)"
   ]
  },
  {
   "cell_type": "code",
   "execution_count": 13,
   "metadata": {},
   "outputs": [
    {
     "name": "stdout",
     "output_type": "stream",
     "text": [
      "[0 1 2 3 4 5 6 7 8 9]\n",
      "[0 2 4 6 8]\n"
     ]
    }
   ],
   "source": [
    "# 'counting' vectors \n",
    "print( np.arange(10) )\n",
    "print( np.arange(0, 10, step=2) )"
   ]
  },
  {
   "cell_type": "code",
   "execution_count": 14,
   "metadata": {},
   "outputs": [
    {
     "name": "stdout",
     "output_type": "stream",
     "text": [
      "create identity matrix\n",
      "[[ 1.  0.  0.]\n",
      " [ 0.  1.  0.]\n",
      " [ 0.  0.  1.]]\n",
      "\n",
      "create diagonal matrix from vector\n",
      "[[ 0.94596406  0.          0.        ]\n",
      " [ 0.          0.83257609  0.        ]\n",
      " [ 0.          0.          0.0801142 ]]\n",
      "\n",
      "extract matrix diagonal\n",
      "[ 0.29886052  0.32475653  0.07785478  0.28197691]\n"
     ]
    }
   ],
   "source": [
    "# identity matrix \n",
    "print('create identity matrix')\n",
    "print( np.eye(3) )\n",
    "print('')\n",
    "\n",
    "# create diag matrix\n",
    "d = np.random.rand(3)\n",
    "print('create diagonal matrix from vector')\n",
    "print( np.diag(d) )\n",
    "print('')\n",
    "\n",
    "# extract matrix diagonal\n",
    "random_matrix = np.random.random((4,4))\n",
    "print('extract matrix diagonal')\n",
    "print( np.diag(random_matrix) )"
   ]
  },
  {
   "cell_type": "markdown",
   "metadata": {},
   "source": [
    "### array indexing\n",
    "#### vectors\n",
    "indexing works similar to indexing for Python lists"
   ]
  },
  {
   "cell_type": "code",
   "execution_count": 15,
   "metadata": {},
   "outputs": [
    {
     "name": "stdout",
     "output_type": "stream",
     "text": [
      "arr: [0 1 2 3 4 5 6 7 8 9]\n"
     ]
    }
   ],
   "source": [
    "# vector indexing\n",
    "arr = np.arange(10)\n",
    "print('arr: {}'.format(arr))"
   ]
  },
  {
   "cell_type": "code",
   "execution_count": 16,
   "metadata": {},
   "outputs": [
    {
     "name": "stdout",
     "output_type": "stream",
     "text": [
      "arr[0] = 0\n"
     ]
    }
   ],
   "source": [
    "# 0 based indexing into individual elements\n",
    "print('arr[0] = {}'.format(arr[0]))"
   ]
  },
  {
   "cell_type": "code",
   "execution_count": 17,
   "metadata": {},
   "outputs": [
    {
     "name": "stdout",
     "output_type": "stream",
     "text": [
      "arr[5:7] = [5 6]\n",
      "arr[0:10:2] = [0 2 4 6 8]\n"
     ]
    }
   ],
   "source": [
    "# index into ranges, with optional step\n",
    "print('arr[5:7] = {}'.format(arr[5:7]))\n",
    "print('arr[0:10:2] = {}'.format(arr[0:10:2]))"
   ]
  },
  {
   "cell_type": "code",
   "execution_count": 18,
   "metadata": {},
   "outputs": [
    {
     "name": "stdout",
     "output_type": "stream",
     "text": [
      "arr[-1] = 9\n",
      "arr[-2] = 8\n"
     ]
    }
   ],
   "source": [
    "# get last element, index backward from last element\n",
    "print('arr[-1] = {}'.format(arr[-1]))\n",
    "print('arr[-2] = {}'.format(arr[-2]))"
   ]
  },
  {
   "cell_type": "code",
   "execution_count": 19,
   "metadata": {},
   "outputs": [
    {
     "name": "stdout",
     "output_type": "stream",
     "text": [
      "arr[3:] = [3 4 5 6 7 8 9]\n"
     ]
    }
   ],
   "source": [
    "# slice to end\n",
    "print('arr[3:] = {}'.format(arr[3:]))"
   ]
  },
  {
   "cell_type": "code",
   "execution_count": 20,
   "metadata": {},
   "outputs": [
    {
     "name": "stdout",
     "output_type": "stream",
     "text": [
      "arr[:3] = [0 1 2]\n"
     ]
    }
   ],
   "source": [
    "# slice from beginning to index\n",
    "print('arr[:3] = {}'.format(arr[:3]))"
   ]
  },
  {
   "cell_type": "markdown",
   "metadata": {},
   "source": [
    "#### multidimensional arrays\n",
    "same rules as for vectors, but with more \"slots\""
   ]
  },
  {
   "cell_type": "code",
   "execution_count": 21,
   "metadata": {},
   "outputs": [
    {
     "name": "stdout",
     "output_type": "stream",
     "text": [
      "arr: \n",
      "[[ 0  1  2  3]\n",
      " [ 4  5  6  7]\n",
      " [ 8  9 10 11]\n",
      " [12 13 14 15]]\n"
     ]
    }
   ],
   "source": [
    "# create vector 1-16 and reshape to a (4,4) 2D array\n",
    "arr = np.arange(16).reshape((4,4))\n",
    "print('arr: \\n{}'.format(arr))"
   ]
  },
  {
   "cell_type": "code",
   "execution_count": 22,
   "metadata": {},
   "outputs": [
    {
     "name": "stdout",
     "output_type": "stream",
     "text": [
      "arr[0,2] = 2\n"
     ]
    }
   ],
   "source": [
    "# index into particular entry\n",
    "print('arr[0,2] = {}'.format(arr[0,2]))"
   ]
  },
  {
   "cell_type": "code",
   "execution_count": 23,
   "metadata": {},
   "outputs": [
    {
     "name": "stdout",
     "output_type": "stream",
     "text": [
      "arr[2, :] = [ 8  9 10 11]\n",
      "arr[:, 2] = [ 2  6 10 14]\n"
     ]
    }
   ],
   "source": [
    "# row, col slice: note objects returned by slicing are vectors!\n",
    "print('arr[2, :] = {}'.format(arr[2,:]))\n",
    "print('arr[:, 2] = {}'.format(arr[:,2]))"
   ]
  },
  {
   "cell_type": "code",
   "execution_count": 34,
   "metadata": {},
   "outputs": [
    {
     "name": "stdout",
     "output_type": "stream",
     "text": [
      "arr[1:3, 1:3] = \n",
      "[[ 5  6]\n",
      " [ 9 10]]\n",
      "\n",
      "arr[lg[:, None], lg] = \n",
      "[[ 5  6]\n",
      " [ 9 10]]\n"
     ]
    }
   ],
   "source": [
    "# submatrix\n",
    "print('arr[1:3, 1:3] = \\n{}\\n'.format(arr[1:3, 1:3]))\n",
    "\n",
    "# submatrix with index list, using broadcasting\n",
    "print('arr[lg[:, None], lg] = \\n{}'.format(arr[lg[:, None], lg]))"
   ]
  },
  {
   "cell_type": "code",
   "execution_count": 25,
   "metadata": {},
   "outputs": [
    {
     "name": "stdout",
     "output_type": "stream",
     "text": [
      "arr[idx, :] = \n",
      "[[ 0  1  2  3]\n",
      " [12 13 14 15]]\n"
     ]
    }
   ],
   "source": [
    "# with index vectors\n",
    "idx = np.array([0,3])\n",
    "print('arr[idx, :] = \\n{}'.format(arr[idx, :]))"
   ]
  },
  {
   "cell_type": "code",
   "execution_count": 26,
   "metadata": {},
   "outputs": [
    {
     "name": "stdout",
     "output_type": "stream",
     "text": [
      "mask = np.ones((4,4), dtype=bool) \n",
      "[[ True  True  True  True]\n",
      " [ True  True  True  True]\n",
      " [ True  True  True  True]\n",
      " [ True  True  True  True]]\n",
      "\n",
      "mask[1:3, :] = 0\n",
      "mask[:, 1:3] = 0 \n",
      "[[ True False False  True]\n",
      " [False False False False]\n",
      " [False False False False]\n",
      " [ True False False  True]]\n",
      "\n",
      "arr[mask] \n",
      "[ 0  3 12 15]\n"
     ]
    }
   ],
   "source": [
    "# with boolean mask to select corners\n",
    "mask = np.ones((4,4), dtype=bool)\n",
    "print('mask = np.ones((4,4), dtype=bool) \\n{}'.format(mask))\n",
    "\n",
    "mask[1:3, :] = 0\n",
    "mask[:, 1:3] = 0\n",
    "print('\\nmask[1:3, :] = 0\\nmask[:, 1:3] = 0 \\n{}'.format(mask))\n",
    "\n",
    "print('\\narr[mask] \\n{}'.format(arr[mask]))"
   ]
  },
  {
   "cell_type": "code",
   "execution_count": null,
   "metadata": {},
   "outputs": [],
   "source": [
    "# index by condition\n",
    "print('arr > 3 \\n{}'.format(arr > 3))\n",
    "print('arr[arr > 3] \\n{}'.format(arr[arr > 3]))"
   ]
  },
  {
   "cell_type": "markdown",
   "metadata": {},
   "source": [
    "#### advanced multi-dimensional indexing tricks"
   ]
  },
  {
   "cell_type": "markdown",
   "metadata": {},
   "source": [
    "Suppose you are indexing into an array, but you don't know how many dimensions the array has. This might arise when you are indexing into both vector and scalar data with the same function. You simply want to get the first field. The `...` index operator is shorthand for 'everything else'.\n",
    "\n",
    "Suppose we have 4 fields of vector and scalar data at 5 nodes, and we want the first field."
   ]
  },
  {
   "cell_type": "code",
   "execution_count": null,
   "metadata": {},
   "outputs": [],
   "source": [
    "nodes, components, fields = 5, 3, 4\n",
    "scalar_data = np.random.random((nodes, fields))\n",
    "vector_data = np.random.random((nodes, components, fields))\n",
    "\n",
    "# we can call this on arrays of different dimension\n",
    "def first_field(arr):\n",
    "    return arr[..., 0]\n",
    "\n",
    "first_field_scalar = first_field(scalar_data)\n",
    "print(first_field_scalar.shape)\n",
    "\n",
    "first_field_vector = first_field(vector_data)\n",
    "print(first_field_vector.shape)\n"
   ]
  },
  {
   "cell_type": "code",
   "execution_count": null,
   "metadata": {},
   "outputs": [],
   "source": [
    "# get first field data at first node\n",
    "def first_node_data(arr):\n",
    "    return arr[0, ..., 0]\n",
    "\n",
    "first_node_scalar = first_node_data(scalar_data)\n",
    "print(first_node_scalar)\n",
    "\n",
    "first_node_vector = first_node_data(vector_data)\n",
    "print(first_node_vector)"
   ]
  },
  {
   "cell_type": "markdown",
   "metadata": {},
   "source": [
    "#### array concatenation\n",
    "\n",
    "Just like in MATLAB with `[A, B]` or `[A: B]`, it is possible to concatenate arrays in `numpy` with `np.concatenate`, `np.vstack`, and `np.hstack`, but in general, array concatenation is not a great practice, because to keep entries contiguous in memory, a new array will be allocated and entries from the old arrays copied into it. This can be a killer, especially if you are concatenating arrays in a loop as a misguided way to dynamically grow the arrays.\n",
    "\n",
    "Therefore, for performance reasons, I generally avoid using array concatenation unless I absolutely need to. Instead, try to allocate an array of the correct size from the start and simply fill it. If you need a datastructure that can be dynamically resized, then consider the standard Python lists and dictionaries."
   ]
  },
  {
   "cell_type": "code",
   "execution_count": null,
   "metadata": {},
   "outputs": [],
   "source": [
    "# let's check the time of dynamically adding to a list vs array\n",
    "import time\n",
    "\n",
    "# time list append\n",
    "a = [1, 2, 3]\n",
    "start = time.clock()\n",
    "for i in range(100000):\n",
    "    a.append(1)\n",
    "end = time.clock()\n",
    "print('elapsed: {}'.format(end-start))\n",
    "\n",
    "# time array concatenate\n",
    "arr = np.array([1, 2, 3])\n",
    "arr2 = np.array([1])\n",
    "\n",
    "start = time.clock()\n",
    "for i in range(100000):\n",
    "    np.concatenate((arr, arr2))\n",
    "end = time.clock()\n",
    "print('elapsed: {}'.format(end-start))"
   ]
  },
  {
   "cell_type": "markdown",
   "metadata": {},
   "source": [
    "On my machine, I see about a factor of 10 speedup by using lists instead of numpy arrays! Be careful in dealing with absolutes like \"numpy arrays are faster than lists\". "
   ]
  },
  {
   "cell_type": "markdown",
   "metadata": {},
   "source": [
    "## Operating on `numpy` arrays\n",
    "\n",
    "`numpy` implements many common mathematical operations which can be efficiently applied to numpy vectors and arrays. Operating on `numpy` arrays is best done by calling these functions on arrays rather than iterating over the entries and applying them individually.\n",
    "\n",
    "Examples are `abs`, `exp`, `sin` etc."
   ]
  },
  {
   "cell_type": "code",
   "execution_count": null,
   "metadata": {},
   "outputs": [],
   "source": [
    "# take the sine of an array\n",
    "x = np.linspace(0, 2*np.pi, 6)\n",
    "sinx = np.sin(x)\n",
    "print(sinx)"
   ]
  },
  {
   "cell_type": "markdown",
   "metadata": {},
   "source": [
    "`numpy` arrays can be efficiently added, multiplied, etc. with standard operators. NOTE: `*` operator does element-wise multiplication, NOT matrix-multiplication like MATLAB. Think of `*` in `numpy` as `.*` in MATLAB."
   ]
  },
  {
   "cell_type": "code",
   "execution_count": null,
   "metadata": {},
   "outputs": [],
   "source": [
    "arr = np.arange(9).reshape((3,3))\n",
    "print('arr \\n{}'.format(arr))\n",
    "print()\n",
    "print('arr * arr \\n{}'.format(arr * arr))"
   ]
  },
  {
   "cell_type": "markdown",
   "metadata": {},
   "source": [
    "`np.dot` implements inner products, matrix-matrix, AND matrix-vector multiplication"
   ]
  },
  {
   "cell_type": "code",
   "execution_count": null,
   "metadata": {},
   "outputs": [],
   "source": [
    "x = np.ones(3, dtype=int)\n",
    "print('arr \\n{}\\nx\\n{}\\n'.format(arr,x))\n",
    "print('np.dot(arr, x) \\n{}'.format(np.dot(arr, x)))"
   ]
  },
  {
   "cell_type": "code",
   "execution_count": null,
   "metadata": {},
   "outputs": [],
   "source": [
    "print('x + x \\n{}'.format(x + x))"
   ]
  },
  {
   "cell_type": "code",
   "execution_count": null,
   "metadata": {},
   "outputs": [],
   "source": []
  }
 ],
 "metadata": {
  "kernelspec": {
   "display_name": "2098env",
   "language": "python",
   "name": "2098env"
  },
  "language_info": {
   "codemirror_mode": {
    "name": "ipython",
    "version": 2
   },
   "file_extension": ".py",
   "mimetype": "text/x-python",
   "name": "python",
   "nbconvert_exporter": "python",
   "pygments_lexer": "ipython2",
   "version": "2.7.13"
  }
 },
 "nbformat": 4,
 "nbformat_minor": 2
}
