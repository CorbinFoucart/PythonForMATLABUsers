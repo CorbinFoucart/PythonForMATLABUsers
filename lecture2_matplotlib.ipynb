{
 "cells": [
  {
   "cell_type": "markdown",
   "metadata": {},
   "source": [
    "## Setup\n",
    "First we check that we have the appropriate libraries installed in your virtual environment. If you're running this notebook outside of your virtual environment, close it and:\n",
    "\n",
    "activate your virtual environment at the command line with\n",
    "\n",
    "`source [virtualenv dir]/bin/activate`\n",
    "\n",
    "after activation, you should see the virtual environment name to the left hand side of your terminal, e.g.,\n",
    "\n",
    "`(venv_name) PythonForMATLABUsers >> ` \n",
    "\n",
    "Now you can run `jupyter notebook` from terminal and try to execute the following code. If the import statements fail, you don't have the libraries installed in your virtual environment. To fix this, close the notebook, execute \n",
    "\n",
    "`pip install numpy scipy sympy matplotlib` \n",
    "\n",
    "from the terminal and relaunch `jupyter notebook`"
   ]
  },
  {
   "cell_type": "code",
   "execution_count": 1,
   "metadata": {},
   "outputs": [],
   "source": [
    "import numpy as np\n",
    "import matplotlib.pyplot as plt"
   ]
  },
  {
   "cell_type": "markdown",
   "metadata": {},
   "source": [
    "## Matplotlib\n",
    "\n",
    "`matplotlib` is a powerful plotting library which implements a simple plotting interface `pyplot` which is similar to MATLAB's. In this lecture, we will work with this simple interface, which is significantly easier and more intuitive for those new to Python but who are familiar to MATLAB.\n",
    "\n",
    "I add only as a footnote that a much more powerful set of features and fine-grain control is available to more advanced Python programmers willing to use the Matplotlib object-oriented interface."
   ]
  },
  {
   "cell_type": "code",
   "execution_count": null,
   "metadata": {},
   "outputs": [],
   "source": []
  }
 ],
 "metadata": {
  "kernelspec": {
   "display_name": "Python 3",
   "language": "python",
   "name": "python3"
  },
  "language_info": {
   "codemirror_mode": {
    "name": "ipython",
    "version": 3
   },
   "file_extension": ".py",
   "mimetype": "text/x-python",
   "name": "python",
   "nbconvert_exporter": "python",
   "pygments_lexer": "ipython3",
   "version": "3.5.1"
  }
 },
 "nbformat": 4,
 "nbformat_minor": 2
}
